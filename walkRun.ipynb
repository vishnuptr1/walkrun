{
 "cells": [
  {
   "cell_type": "code",
   "execution_count": 1,
   "metadata": {},
   "outputs": [],
   "source": [
    "#This dataset contains accelerometer and gyroscope data associated when a person is running and walking. "
   ]
  },
  {
   "cell_type": "markdown",
   "metadata": {},
   "source": [
    "### Business Problem\n",
    " This dataset is used to identify whether a user is walking or running\n",
    " # Contents\n",
    " This data set contains 88588 user records and 8 coloumns, 44365 running  and 44223 walking record. In the dataset the coloumn named Activity is used to divide groups into walking  or running. \n",
    " \n",
    "# Domain Analysis\n",
    "Acceleration (a) is the change in velocity (Δv) over the change in time (Δt), represented by the equation a = Δv/Δt. This allows you to measure how fast velocity changes in meters per second squared (m/s^2). Acceleration is also a vector quantity, so it includes both magnitude and direction\n",
    "The X axis is parallel with the device's screen, aligned with the top and bottom edges, in the left-right direction. The Y axis is parallel with the device's screen, aligned with the left and right edges, in the top-bottom direction. The Z axis is perpendicular to the device's screen, pointing up.\n",
    "\n",
    " <img src=\"accelerometer.png\">\n",
    "\n",
    "\n",
    " Time: when activity starts\n",
    " \n",
    " \n",
    " \n",
    " Username:Name of the user\n",
    " \n",
    " \n",
    " wrist:wrist\" refers to the hand on which the device was worn while recording, it can take only two values i.e., 0 for \"left\" and 1 for \"right\"\n",
    " \n",
    " Activity:\"activity\" refers to the physical activity being performed during recording, 0 for \"walk\" and 1 for \"run\n",
    " \n",
    "A gyroscope measures the rate at which a device rotates around a spatial axis.Devices have a three-axis gyroscope, which delivers rotation values in each of the three axes shown in Rotation values are measured in radians per second around the given axis. Rotation values may be positive or negative depending on the direction of rotation.The gyroscope measures rotation around the x, y, and z axes.\n",
    " "
   ]
  },
  {
   "cell_type": "code",
   "execution_count": 3,
   "metadata": {},
   "outputs": [],
   "source": [
    "\n",
    "# Import the data processing and visualization libraries\n",
    "\n",
    "import pandas as pd\n",
    "import numpy as np\n",
    "import matplotlib.pyplot as plt\n",
    "import seaborn as sns\n",
    "from sklearn.model_selection import train_test_split\n",
    "from sklearn.metrics import accuracy_score, confusion_matrix, roc_curve, roc_auc_score\n",
    "from sklearn.metrics import f1_score\n",
    "import math "
   ]
  },
  {
   "cell_type": "code",
   "execution_count": 4,
   "metadata": {},
   "outputs": [],
   "source": [
    "data=pd.read_csv('walkrun.csv')"
   ]
  },
  {
   "cell_type": "code",
   "execution_count": 5,
   "metadata": {},
   "outputs": [
    {
     "data": {
      "text/html": [
       "<div>\n",
       "<style scoped>\n",
       "    .dataframe tbody tr th:only-of-type {\n",
       "        vertical-align: middle;\n",
       "    }\n",
       "\n",
       "    .dataframe tbody tr th {\n",
       "        vertical-align: top;\n",
       "    }\n",
       "\n",
       "    .dataframe thead th {\n",
       "        text-align: right;\n",
       "    }\n",
       "</style>\n",
       "<table border=\"1\" class=\"dataframe\">\n",
       "  <thead>\n",
       "    <tr style=\"text-align: right;\">\n",
       "      <th></th>\n",
       "      <th>date</th>\n",
       "      <th>time</th>\n",
       "      <th>username</th>\n",
       "      <th>wrist</th>\n",
       "      <th>activity</th>\n",
       "      <th>acceleration_x</th>\n",
       "      <th>acceleration_y</th>\n",
       "      <th>acceleration_z</th>\n",
       "      <th>gyro_x</th>\n",
       "      <th>gyro_y</th>\n",
       "      <th>gyro_z</th>\n",
       "    </tr>\n",
       "  </thead>\n",
       "  <tbody>\n",
       "    <tr>\n",
       "      <th>0</th>\n",
       "      <td>2017-6-30</td>\n",
       "      <td>13:51:15:847724020</td>\n",
       "      <td>viktor</td>\n",
       "      <td>0</td>\n",
       "      <td>0</td>\n",
       "      <td>0.2650</td>\n",
       "      <td>-0.7814</td>\n",
       "      <td>-0.0076</td>\n",
       "      <td>-0.0590</td>\n",
       "      <td>0.0325</td>\n",
       "      <td>-2.9296</td>\n",
       "    </tr>\n",
       "    <tr>\n",
       "      <th>1</th>\n",
       "      <td>2017-6-30</td>\n",
       "      <td>13:51:16:246945023</td>\n",
       "      <td>viktor</td>\n",
       "      <td>0</td>\n",
       "      <td>0</td>\n",
       "      <td>0.6722</td>\n",
       "      <td>-1.1233</td>\n",
       "      <td>-0.2344</td>\n",
       "      <td>-0.1757</td>\n",
       "      <td>0.0208</td>\n",
       "      <td>0.1269</td>\n",
       "    </tr>\n",
       "    <tr>\n",
       "      <th>2</th>\n",
       "      <td>2017-6-30</td>\n",
       "      <td>13:51:16:446233987</td>\n",
       "      <td>viktor</td>\n",
       "      <td>0</td>\n",
       "      <td>0</td>\n",
       "      <td>0.4399</td>\n",
       "      <td>-1.4817</td>\n",
       "      <td>0.0722</td>\n",
       "      <td>-0.9105</td>\n",
       "      <td>0.1063</td>\n",
       "      <td>-2.4367</td>\n",
       "    </tr>\n",
       "    <tr>\n",
       "      <th>3</th>\n",
       "      <td>2017-6-30</td>\n",
       "      <td>13:51:16:646117985</td>\n",
       "      <td>viktor</td>\n",
       "      <td>0</td>\n",
       "      <td>0</td>\n",
       "      <td>0.3031</td>\n",
       "      <td>-0.8125</td>\n",
       "      <td>0.0888</td>\n",
       "      <td>0.1199</td>\n",
       "      <td>-0.4099</td>\n",
       "      <td>-2.9336</td>\n",
       "    </tr>\n",
       "    <tr>\n",
       "      <th>4</th>\n",
       "      <td>2017-6-30</td>\n",
       "      <td>13:51:16:846738994</td>\n",
       "      <td>viktor</td>\n",
       "      <td>0</td>\n",
       "      <td>0</td>\n",
       "      <td>0.4814</td>\n",
       "      <td>-0.9312</td>\n",
       "      <td>0.0359</td>\n",
       "      <td>0.0527</td>\n",
       "      <td>0.4379</td>\n",
       "      <td>2.4922</td>\n",
       "    </tr>\n",
       "  </tbody>\n",
       "</table>\n",
       "</div>"
      ],
      "text/plain": [
       "        date                time username  wrist  activity  acceleration_x  \\\n",
       "0  2017-6-30  13:51:15:847724020   viktor      0         0          0.2650   \n",
       "1  2017-6-30  13:51:16:246945023   viktor      0         0          0.6722   \n",
       "2  2017-6-30  13:51:16:446233987   viktor      0         0          0.4399   \n",
       "3  2017-6-30  13:51:16:646117985   viktor      0         0          0.3031   \n",
       "4  2017-6-30  13:51:16:846738994   viktor      0         0          0.4814   \n",
       "\n",
       "   acceleration_y  acceleration_z  gyro_x  gyro_y  gyro_z  \n",
       "0         -0.7814         -0.0076 -0.0590  0.0325 -2.9296  \n",
       "1         -1.1233         -0.2344 -0.1757  0.0208  0.1269  \n",
       "2         -1.4817          0.0722 -0.9105  0.1063 -2.4367  \n",
       "3         -0.8125          0.0888  0.1199 -0.4099 -2.9336  \n",
       "4         -0.9312          0.0359  0.0527  0.4379  2.4922  "
      ]
     },
     "execution_count": 5,
     "metadata": {},
     "output_type": "execute_result"
    }
   ],
   "source": [
    "\n",
    "# Access the first 5 rows \n",
    "data.head()"
   ]
  },
  {
   "cell_type": "code",
   "execution_count": 6,
   "metadata": {},
   "outputs": [
    {
     "data": {
      "text/plain": [
       "(88588, 11)"
      ]
     },
     "execution_count": 6,
     "metadata": {},
     "output_type": "execute_result"
    }
   ],
   "source": [
    "#total number of rows and coloumns respectively\n",
    "data.shape"
   ]
  },
  {
   "cell_type": "code",
   "execution_count": 4,
   "metadata": {},
   "outputs": [
    {
     "data": {
      "text/plain": [
       "array(['viktor'], dtype=object)"
      ]
     },
     "execution_count": 4,
     "metadata": {},
     "output_type": "execute_result"
    }
   ],
   "source": [
    "#the data contains information about a user named Vicktor\n",
    "data.username.unique()"
   ]
  },
  {
   "cell_type": "code",
   "execution_count": 5,
   "metadata": {},
   "outputs": [
    {
     "data": {
      "text/html": [
       "<div>\n",
       "<style scoped>\n",
       "    .dataframe tbody tr th:only-of-type {\n",
       "        vertical-align: middle;\n",
       "    }\n",
       "\n",
       "    .dataframe tbody tr th {\n",
       "        vertical-align: top;\n",
       "    }\n",
       "\n",
       "    .dataframe thead th {\n",
       "        text-align: right;\n",
       "    }\n",
       "</style>\n",
       "<table border=\"1\" class=\"dataframe\">\n",
       "  <thead>\n",
       "    <tr style=\"text-align: right;\">\n",
       "      <th></th>\n",
       "      <th>date</th>\n",
       "      <th>time</th>\n",
       "      <th>username</th>\n",
       "      <th>wrist</th>\n",
       "      <th>activity</th>\n",
       "      <th>acceleration_x</th>\n",
       "      <th>acceleration_y</th>\n",
       "      <th>acceleration_z</th>\n",
       "      <th>gyro_x</th>\n",
       "      <th>gyro_y</th>\n",
       "      <th>gyro_z</th>\n",
       "    </tr>\n",
       "  </thead>\n",
       "  <tbody>\n",
       "    <tr>\n",
       "      <th>88583</th>\n",
       "      <td>2017-7-9</td>\n",
       "      <td>20:9:15:317911028</td>\n",
       "      <td>viktor</td>\n",
       "      <td>0</td>\n",
       "      <td>0</td>\n",
       "      <td>0.3084</td>\n",
       "      <td>-0.8376</td>\n",
       "      <td>-0.1327</td>\n",
       "      <td>0.4823</td>\n",
       "      <td>2.0124</td>\n",
       "      <td>0.6048</td>\n",
       "    </tr>\n",
       "    <tr>\n",
       "      <th>88584</th>\n",
       "      <td>2017-7-9</td>\n",
       "      <td>20:9:15:517889022</td>\n",
       "      <td>viktor</td>\n",
       "      <td>0</td>\n",
       "      <td>0</td>\n",
       "      <td>0.4977</td>\n",
       "      <td>-1.0027</td>\n",
       "      <td>-0.4397</td>\n",
       "      <td>0.1022</td>\n",
       "      <td>-1.2565</td>\n",
       "      <td>-0.0761</td>\n",
       "    </tr>\n",
       "    <tr>\n",
       "      <th>88585</th>\n",
       "      <td>2017-7-9</td>\n",
       "      <td>20:9:15:717828989</td>\n",
       "      <td>viktor</td>\n",
       "      <td>0</td>\n",
       "      <td>0</td>\n",
       "      <td>0.4587</td>\n",
       "      <td>-1.1780</td>\n",
       "      <td>-0.2827</td>\n",
       "      <td>-1.4500</td>\n",
       "      <td>-0.2792</td>\n",
       "      <td>-1.2616</td>\n",
       "    </tr>\n",
       "    <tr>\n",
       "      <th>88586</th>\n",
       "      <td>2017-7-9</td>\n",
       "      <td>20:9:15:917932987</td>\n",
       "      <td>viktor</td>\n",
       "      <td>0</td>\n",
       "      <td>0</td>\n",
       "      <td>0.2590</td>\n",
       "      <td>-0.8582</td>\n",
       "      <td>-0.0759</td>\n",
       "      <td>-1.5165</td>\n",
       "      <td>0.4560</td>\n",
       "      <td>-1.7755</td>\n",
       "    </tr>\n",
       "    <tr>\n",
       "      <th>88587</th>\n",
       "      <td>2017-7-9</td>\n",
       "      <td>20:9:16:117410004</td>\n",
       "      <td>viktor</td>\n",
       "      <td>0</td>\n",
       "      <td>0</td>\n",
       "      <td>0.3140</td>\n",
       "      <td>-0.8008</td>\n",
       "      <td>-0.0911</td>\n",
       "      <td>0.1183</td>\n",
       "      <td>1.0850</td>\n",
       "      <td>1.2814</td>\n",
       "    </tr>\n",
       "  </tbody>\n",
       "</table>\n",
       "</div>"
      ],
      "text/plain": [
       "           date               time username  wrist  activity  acceleration_x  \\\n",
       "88583  2017-7-9  20:9:15:317911028   viktor      0         0          0.3084   \n",
       "88584  2017-7-9  20:9:15:517889022   viktor      0         0          0.4977   \n",
       "88585  2017-7-9  20:9:15:717828989   viktor      0         0          0.4587   \n",
       "88586  2017-7-9  20:9:15:917932987   viktor      0         0          0.2590   \n",
       "88587  2017-7-9  20:9:16:117410004   viktor      0         0          0.3140   \n",
       "\n",
       "       acceleration_y  acceleration_z  gyro_x  gyro_y  gyro_z  \n",
       "88583         -0.8376         -0.1327  0.4823  2.0124  0.6048  \n",
       "88584         -1.0027         -0.4397  0.1022 -1.2565 -0.0761  \n",
       "88585         -1.1780         -0.2827 -1.4500 -0.2792 -1.2616  \n",
       "88586         -0.8582         -0.0759 -1.5165  0.4560 -1.7755  \n",
       "88587         -0.8008         -0.0911  0.1183  1.0850  1.2814  "
      ]
     },
     "execution_count": 5,
     "metadata": {},
     "output_type": "execute_result"
    }
   ],
   "source": [
    "# Access the last 5 rows \n",
    "\n",
    "data.tail()"
   ]
  },
  {
   "cell_type": "code",
   "execution_count": 9,
   "metadata": {},
   "outputs": [
    {
     "data": {
      "text/plain": [
       "1    44365\n",
       "0    44223\n",
       "Name: activity, dtype: int64"
      ]
     },
     "execution_count": 9,
     "metadata": {},
     "output_type": "execute_result"
    }
   ],
   "source": [
    "#Target variable .There is no imbalance in data\n",
    "data.activity.value_counts()"
   ]
  },
  {
   "cell_type": "code",
   "execution_count": 10,
   "metadata": {},
   "outputs": [
    {
     "data": {
      "text/plain": [
       "array([0, 1])"
      ]
     },
     "execution_count": 10,
     "metadata": {},
     "output_type": "execute_result"
    }
   ],
   "source": [
    "#which hand the user has worn the sensor\n",
    "data.wrist.unique()"
   ]
  },
  {
   "cell_type": "code",
   "execution_count": 11,
   "metadata": {},
   "outputs": [
    {
     "data": {
      "text/plain": [
       "viktor    88588\n",
       "Name: username, dtype: int64"
      ]
     },
     "execution_count": 11,
     "metadata": {},
     "output_type": "execute_result"
    }
   ],
   "source": [
    "data.username.value_counts()"
   ]
  },
  {
   "cell_type": "code",
   "execution_count": 12,
   "metadata": {},
   "outputs": [
    {
     "data": {
      "text/plain": [
       "array(['date', 'time', 'username', 'wrist', 'activity', 'acceleration_x',\n",
       "       'acceleration_y', 'acceleration_z', 'gyro_x', 'gyro_y', 'gyro_z'],\n",
       "      dtype=object)"
      ]
     },
     "execution_count": 12,
     "metadata": {},
     "output_type": "execute_result"
    }
   ],
   "source": [
    "# Retrieve the colunmn information\n",
    "data.columns.values"
   ]
  },
  {
   "cell_type": "code",
   "execution_count": 13,
   "metadata": {},
   "outputs": [
    {
     "name": "stdout",
     "output_type": "stream",
     "text": [
      "<class 'pandas.core.frame.DataFrame'>\n",
      "RangeIndex: 88588 entries, 0 to 88587\n",
      "Data columns (total 11 columns):\n",
      " #   Column          Non-Null Count  Dtype  \n",
      "---  ------          --------------  -----  \n",
      " 0   date            88588 non-null  object \n",
      " 1   time            88588 non-null  object \n",
      " 2   username        88588 non-null  object \n",
      " 3   wrist           88588 non-null  int64  \n",
      " 4   activity        88588 non-null  int64  \n",
      " 5   acceleration_x  88588 non-null  float64\n",
      " 6   acceleration_y  88588 non-null  float64\n",
      " 7   acceleration_z  88588 non-null  float64\n",
      " 8   gyro_x          88588 non-null  float64\n",
      " 9   gyro_y          88588 non-null  float64\n",
      " 10  gyro_z          88588 non-null  float64\n",
      "dtypes: float64(6), int64(2), object(3)\n",
      "memory usage: 7.4+ MB\n"
     ]
    }
   ],
   "source": [
    "#gives the total number ,null value and the object type \n",
    "data.info()"
   ]
  },
  {
   "cell_type": "code",
   "execution_count": 14,
   "metadata": {},
   "outputs": [
    {
     "data": {
      "text/html": [
       "<div>\n",
       "<style scoped>\n",
       "    .dataframe tbody tr th:only-of-type {\n",
       "        vertical-align: middle;\n",
       "    }\n",
       "\n",
       "    .dataframe tbody tr th {\n",
       "        vertical-align: top;\n",
       "    }\n",
       "\n",
       "    .dataframe thead th {\n",
       "        text-align: right;\n",
       "    }\n",
       "</style>\n",
       "<table border=\"1\" class=\"dataframe\">\n",
       "  <thead>\n",
       "    <tr style=\"text-align: right;\">\n",
       "      <th></th>\n",
       "      <th>wrist</th>\n",
       "      <th>activity</th>\n",
       "      <th>acceleration_x</th>\n",
       "      <th>acceleration_y</th>\n",
       "      <th>acceleration_z</th>\n",
       "      <th>gyro_x</th>\n",
       "      <th>gyro_y</th>\n",
       "      <th>gyro_z</th>\n",
       "    </tr>\n",
       "  </thead>\n",
       "  <tbody>\n",
       "    <tr>\n",
       "      <th>count</th>\n",
       "      <td>88588.000000</td>\n",
       "      <td>88588.000000</td>\n",
       "      <td>88588.000000</td>\n",
       "      <td>88588.000000</td>\n",
       "      <td>88588.000000</td>\n",
       "      <td>88588.000000</td>\n",
       "      <td>88588.000000</td>\n",
       "      <td>88588.000000</td>\n",
       "    </tr>\n",
       "    <tr>\n",
       "      <th>mean</th>\n",
       "      <td>0.522170</td>\n",
       "      <td>0.500801</td>\n",
       "      <td>-0.074811</td>\n",
       "      <td>-0.562585</td>\n",
       "      <td>-0.313956</td>\n",
       "      <td>0.004160</td>\n",
       "      <td>0.037203</td>\n",
       "      <td>0.022327</td>\n",
       "    </tr>\n",
       "    <tr>\n",
       "      <th>std</th>\n",
       "      <td>0.499511</td>\n",
       "      <td>0.500002</td>\n",
       "      <td>1.009299</td>\n",
       "      <td>0.658458</td>\n",
       "      <td>0.486815</td>\n",
       "      <td>1.253423</td>\n",
       "      <td>1.198725</td>\n",
       "      <td>1.914423</td>\n",
       "    </tr>\n",
       "    <tr>\n",
       "      <th>min</th>\n",
       "      <td>0.000000</td>\n",
       "      <td>0.000000</td>\n",
       "      <td>-5.350500</td>\n",
       "      <td>-3.299000</td>\n",
       "      <td>-3.753800</td>\n",
       "      <td>-4.430600</td>\n",
       "      <td>-7.464700</td>\n",
       "      <td>-9.480000</td>\n",
       "    </tr>\n",
       "    <tr>\n",
       "      <th>25%</th>\n",
       "      <td>0.000000</td>\n",
       "      <td>0.000000</td>\n",
       "      <td>-0.381800</td>\n",
       "      <td>-1.033500</td>\n",
       "      <td>-0.376000</td>\n",
       "      <td>-0.920700</td>\n",
       "      <td>-0.644825</td>\n",
       "      <td>-1.345125</td>\n",
       "    </tr>\n",
       "    <tr>\n",
       "      <th>50%</th>\n",
       "      <td>1.000000</td>\n",
       "      <td>1.000000</td>\n",
       "      <td>-0.059500</td>\n",
       "      <td>-0.759100</td>\n",
       "      <td>-0.221000</td>\n",
       "      <td>0.018700</td>\n",
       "      <td>0.039300</td>\n",
       "      <td>0.006900</td>\n",
       "    </tr>\n",
       "    <tr>\n",
       "      <th>75%</th>\n",
       "      <td>1.000000</td>\n",
       "      <td>1.000000</td>\n",
       "      <td>0.355500</td>\n",
       "      <td>-0.241775</td>\n",
       "      <td>-0.085900</td>\n",
       "      <td>0.888800</td>\n",
       "      <td>0.733700</td>\n",
       "      <td>1.398200</td>\n",
       "    </tr>\n",
       "    <tr>\n",
       "      <th>max</th>\n",
       "      <td>1.000000</td>\n",
       "      <td>1.000000</td>\n",
       "      <td>5.603300</td>\n",
       "      <td>2.668000</td>\n",
       "      <td>1.640300</td>\n",
       "      <td>4.874200</td>\n",
       "      <td>8.498000</td>\n",
       "      <td>11.266200</td>\n",
       "    </tr>\n",
       "  </tbody>\n",
       "</table>\n",
       "</div>"
      ],
      "text/plain": [
       "              wrist      activity  acceleration_x  acceleration_y  \\\n",
       "count  88588.000000  88588.000000    88588.000000    88588.000000   \n",
       "mean       0.522170      0.500801       -0.074811       -0.562585   \n",
       "std        0.499511      0.500002        1.009299        0.658458   \n",
       "min        0.000000      0.000000       -5.350500       -3.299000   \n",
       "25%        0.000000      0.000000       -0.381800       -1.033500   \n",
       "50%        1.000000      1.000000       -0.059500       -0.759100   \n",
       "75%        1.000000      1.000000        0.355500       -0.241775   \n",
       "max        1.000000      1.000000        5.603300        2.668000   \n",
       "\n",
       "       acceleration_z        gyro_x        gyro_y        gyro_z  \n",
       "count    88588.000000  88588.000000  88588.000000  88588.000000  \n",
       "mean        -0.313956      0.004160      0.037203      0.022327  \n",
       "std          0.486815      1.253423      1.198725      1.914423  \n",
       "min         -3.753800     -4.430600     -7.464700     -9.480000  \n",
       "25%         -0.376000     -0.920700     -0.644825     -1.345125  \n",
       "50%         -0.221000      0.018700      0.039300      0.006900  \n",
       "75%         -0.085900      0.888800      0.733700      1.398200  \n",
       "max          1.640300      4.874200      8.498000     11.266200  "
      ]
     },
     "execution_count": 14,
     "metadata": {},
     "output_type": "execute_result"
    }
   ],
   "source": [
    "data.describe()"
   ]
  },
  {
   "cell_type": "markdown",
   "metadata": {},
   "source": [
    "# Data cleaning"
   ]
  },
  {
   "cell_type": "code",
   "execution_count": 6,
   "metadata": {},
   "outputs": [],
   "source": [
    "\n",
    "#Date and time are not needed\n",
    "data.drop(columns=['date', 'time'],inplace=True)\n"
   ]
  },
  {
   "cell_type": "code",
   "execution_count": 7,
   "metadata": {},
   "outputs": [
    {
     "name": "stdout",
     "output_type": "stream",
     "text": [
      "(88588, 9)\n"
     ]
    }
   ],
   "source": [
    "#check for dulicate value\n",
    "data = data.drop_duplicates()\n",
    "print(data.shape)\n",
    "#there are no duplicate values"
   ]
  },
  {
   "cell_type": "code",
   "execution_count": 8,
   "metadata": {},
   "outputs": [
    {
     "data": {
      "text/plain": [
       "username          0\n",
       "wrist             0\n",
       "activity          0\n",
       "acceleration_x    0\n",
       "acceleration_y    0\n",
       "acceleration_z    0\n",
       "gyro_x            0\n",
       "gyro_y            0\n",
       "gyro_z            0\n",
       "dtype: int64"
      ]
     },
     "execution_count": 8,
     "metadata": {},
     "output_type": "execute_result"
    }
   ],
   "source": [
    "data.isnull().sum()\n"
   ]
  },
  {
   "cell_type": "code",
   "execution_count": 9,
   "metadata": {},
   "outputs": [],
   "source": [
    "#function is used  to calculate acceleration from acceleration cordinates\n",
    "\n",
    "\n",
    "accel =[]\n",
    "def accleration(x,y,z):\n",
    "    \n",
    "    s=(x*x)+(y*y)+(z*z)\n",
    "    acceleration=y=(math.sqrt(s)) \n",
    "    accel.append(acceleration)\n",
    "\n"
   ]
  },
  {
   "cell_type": "code",
   "execution_count": 10,
   "metadata": {},
   "outputs": [],
   "source": [
    "#it goes throuh all the rows in the coloumn and get x,y,z acceleration cordinates\n",
    "result = [accleration(x, y,z) for x, y ,z in zip(data['acceleration_x'], data['acceleration_y'],data['acceleration_z'])]\n"
   ]
  },
  {
   "cell_type": "code",
   "execution_count": 11,
   "metadata": {},
   "outputs": [],
   "source": [
    "#create a new coloumn to store acceleration values\n",
    "data[\"acceleration\"]=\"\""
   ]
  },
  {
   "cell_type": "code",
   "execution_count": 13,
   "metadata": {},
   "outputs": [],
   "source": [
    "#store values\n",
    "data['acceleration']=pd.Series(accel)\n",
    "\n"
   ]
  },
  {
   "cell_type": "code",
   "execution_count": 14,
   "metadata": {},
   "outputs": [
    {
     "data": {
      "text/html": [
       "<div>\n",
       "<style scoped>\n",
       "    .dataframe tbody tr th:only-of-type {\n",
       "        vertical-align: middle;\n",
       "    }\n",
       "\n",
       "    .dataframe tbody tr th {\n",
       "        vertical-align: top;\n",
       "    }\n",
       "\n",
       "    .dataframe thead th {\n",
       "        text-align: right;\n",
       "    }\n",
       "</style>\n",
       "<table border=\"1\" class=\"dataframe\">\n",
       "  <thead>\n",
       "    <tr style=\"text-align: right;\">\n",
       "      <th></th>\n",
       "      <th>username</th>\n",
       "      <th>wrist</th>\n",
       "      <th>activity</th>\n",
       "      <th>acceleration_x</th>\n",
       "      <th>acceleration_y</th>\n",
       "      <th>acceleration_z</th>\n",
       "      <th>gyro_x</th>\n",
       "      <th>gyro_y</th>\n",
       "      <th>gyro_z</th>\n",
       "      <th>acceleration</th>\n",
       "    </tr>\n",
       "  </thead>\n",
       "  <tbody>\n",
       "    <tr>\n",
       "      <th>0</th>\n",
       "      <td>viktor</td>\n",
       "      <td>0</td>\n",
       "      <td>0</td>\n",
       "      <td>0.2650</td>\n",
       "      <td>-0.7814</td>\n",
       "      <td>-0.0076</td>\n",
       "      <td>-0.0590</td>\n",
       "      <td>0.0325</td>\n",
       "      <td>-2.9296</td>\n",
       "      <td>0.825148</td>\n",
       "    </tr>\n",
       "    <tr>\n",
       "      <th>1</th>\n",
       "      <td>viktor</td>\n",
       "      <td>0</td>\n",
       "      <td>0</td>\n",
       "      <td>0.6722</td>\n",
       "      <td>-1.1233</td>\n",
       "      <td>-0.2344</td>\n",
       "      <td>-0.1757</td>\n",
       "      <td>0.0208</td>\n",
       "      <td>0.1269</td>\n",
       "      <td>1.329887</td>\n",
       "    </tr>\n",
       "    <tr>\n",
       "      <th>2</th>\n",
       "      <td>viktor</td>\n",
       "      <td>0</td>\n",
       "      <td>0</td>\n",
       "      <td>0.4399</td>\n",
       "      <td>-1.4817</td>\n",
       "      <td>0.0722</td>\n",
       "      <td>-0.9105</td>\n",
       "      <td>0.1063</td>\n",
       "      <td>-2.4367</td>\n",
       "      <td>1.547307</td>\n",
       "    </tr>\n",
       "    <tr>\n",
       "      <th>3</th>\n",
       "      <td>viktor</td>\n",
       "      <td>0</td>\n",
       "      <td>0</td>\n",
       "      <td>0.3031</td>\n",
       "      <td>-0.8125</td>\n",
       "      <td>0.0888</td>\n",
       "      <td>0.1199</td>\n",
       "      <td>-0.4099</td>\n",
       "      <td>-2.9336</td>\n",
       "      <td>0.871729</td>\n",
       "    </tr>\n",
       "    <tr>\n",
       "      <th>4</th>\n",
       "      <td>viktor</td>\n",
       "      <td>0</td>\n",
       "      <td>0</td>\n",
       "      <td>0.4814</td>\n",
       "      <td>-0.9312</td>\n",
       "      <td>0.0359</td>\n",
       "      <td>0.0527</td>\n",
       "      <td>0.4379</td>\n",
       "      <td>2.4922</td>\n",
       "      <td>1.048889</td>\n",
       "    </tr>\n",
       "    <tr>\n",
       "      <th>...</th>\n",
       "      <td>...</td>\n",
       "      <td>...</td>\n",
       "      <td>...</td>\n",
       "      <td>...</td>\n",
       "      <td>...</td>\n",
       "      <td>...</td>\n",
       "      <td>...</td>\n",
       "      <td>...</td>\n",
       "      <td>...</td>\n",
       "      <td>...</td>\n",
       "    </tr>\n",
       "    <tr>\n",
       "      <th>88583</th>\n",
       "      <td>viktor</td>\n",
       "      <td>0</td>\n",
       "      <td>0</td>\n",
       "      <td>0.3084</td>\n",
       "      <td>-0.8376</td>\n",
       "      <td>-0.1327</td>\n",
       "      <td>0.4823</td>\n",
       "      <td>2.0124</td>\n",
       "      <td>0.6048</td>\n",
       "      <td>0.902382</td>\n",
       "    </tr>\n",
       "    <tr>\n",
       "      <th>88584</th>\n",
       "      <td>viktor</td>\n",
       "      <td>0</td>\n",
       "      <td>0</td>\n",
       "      <td>0.4977</td>\n",
       "      <td>-1.0027</td>\n",
       "      <td>-0.4397</td>\n",
       "      <td>0.1022</td>\n",
       "      <td>-1.2565</td>\n",
       "      <td>-0.0761</td>\n",
       "      <td>1.202684</td>\n",
       "    </tr>\n",
       "    <tr>\n",
       "      <th>88585</th>\n",
       "      <td>viktor</td>\n",
       "      <td>0</td>\n",
       "      <td>0</td>\n",
       "      <td>0.4587</td>\n",
       "      <td>-1.1780</td>\n",
       "      <td>-0.2827</td>\n",
       "      <td>-1.4500</td>\n",
       "      <td>-0.2792</td>\n",
       "      <td>-1.2616</td>\n",
       "      <td>1.295380</td>\n",
       "    </tr>\n",
       "    <tr>\n",
       "      <th>88586</th>\n",
       "      <td>viktor</td>\n",
       "      <td>0</td>\n",
       "      <td>0</td>\n",
       "      <td>0.2590</td>\n",
       "      <td>-0.8582</td>\n",
       "      <td>-0.0759</td>\n",
       "      <td>-1.5165</td>\n",
       "      <td>0.4560</td>\n",
       "      <td>-1.7755</td>\n",
       "      <td>0.899638</td>\n",
       "    </tr>\n",
       "    <tr>\n",
       "      <th>88587</th>\n",
       "      <td>viktor</td>\n",
       "      <td>0</td>\n",
       "      <td>0</td>\n",
       "      <td>0.3140</td>\n",
       "      <td>-0.8008</td>\n",
       "      <td>-0.0911</td>\n",
       "      <td>0.1183</td>\n",
       "      <td>1.0850</td>\n",
       "      <td>1.2814</td>\n",
       "      <td>0.864972</td>\n",
       "    </tr>\n",
       "  </tbody>\n",
       "</table>\n",
       "<p>88588 rows × 10 columns</p>\n",
       "</div>"
      ],
      "text/plain": [
       "      username  wrist  activity  acceleration_x  acceleration_y  \\\n",
       "0       viktor      0         0          0.2650         -0.7814   \n",
       "1       viktor      0         0          0.6722         -1.1233   \n",
       "2       viktor      0         0          0.4399         -1.4817   \n",
       "3       viktor      0         0          0.3031         -0.8125   \n",
       "4       viktor      0         0          0.4814         -0.9312   \n",
       "...        ...    ...       ...             ...             ...   \n",
       "88583   viktor      0         0          0.3084         -0.8376   \n",
       "88584   viktor      0         0          0.4977         -1.0027   \n",
       "88585   viktor      0         0          0.4587         -1.1780   \n",
       "88586   viktor      0         0          0.2590         -0.8582   \n",
       "88587   viktor      0         0          0.3140         -0.8008   \n",
       "\n",
       "       acceleration_z  gyro_x  gyro_y  gyro_z  acceleration  \n",
       "0             -0.0076 -0.0590  0.0325 -2.9296      0.825148  \n",
       "1             -0.2344 -0.1757  0.0208  0.1269      1.329887  \n",
       "2              0.0722 -0.9105  0.1063 -2.4367      1.547307  \n",
       "3              0.0888  0.1199 -0.4099 -2.9336      0.871729  \n",
       "4              0.0359  0.0527  0.4379  2.4922      1.048889  \n",
       "...               ...     ...     ...     ...           ...  \n",
       "88583         -0.1327  0.4823  2.0124  0.6048      0.902382  \n",
       "88584         -0.4397  0.1022 -1.2565 -0.0761      1.202684  \n",
       "88585         -0.2827 -1.4500 -0.2792 -1.2616      1.295380  \n",
       "88586         -0.0759 -1.5165  0.4560 -1.7755      0.899638  \n",
       "88587         -0.0911  0.1183  1.0850  1.2814      0.864972  \n",
       "\n",
       "[88588 rows x 10 columns]"
      ]
     },
     "execution_count": 14,
     "metadata": {},
     "output_type": "execute_result"
    }
   ],
   "source": [
    "data"
   ]
  },
  {
   "cell_type": "markdown",
   "metadata": {},
   "source": [
    "# Data Visualization"
   ]
  },
  {
   "cell_type": "markdown",
   "metadata": {},
   "source": [
    "# Univariate analysis\n",
    "\n",
    "wrist:#0 :left #1 :right more of the people wear the band on the right hand\n",
    "\n",
    "acceleration_x:#most of the values are concentrated b/w -1 and 1\n",
    "\n",
    "\n",
    "acceleration_y:#most of the values are concentrated b/w -1.5to 0 than it increases slowly and then decreases.\n",
    "\n",
    "acceleration_z:values in increses from -2 to 0 and then suddenly dips to 1\n",
    "\n",
    "gyro_x:most of the values are b/w -4 to 4\n",
    "\n",
    "gyro_y:most of the values are b/w -4 to 4\n",
    "\n",
    "gyro_z:most of the values are b/w -5 to 5\n",
    "\n"
   ]
  },
  {
   "cell_type": "code",
   "execution_count": 76,
   "metadata": {},
   "outputs": [
    {
     "data": {
      "text/plain": [
       "<AxesSubplot:xlabel='activity', ylabel='acceleration'>"
      ]
     },
     "execution_count": 76,
     "metadata": {},
     "output_type": "execute_result"
    },
    {
     "data": {
      "image/png": "[encoded data removed]",
      "text/plain": [
       "<Figure size 432x288 with 1 Axes>"
      ]
     },
     "metadata": {
      "needs_background": "light"
     },
     "output_type": "display_data"
    }
   ],
   "source": [
    "#plotting acceleration to activity we can find that the acceleration is high in  activity 1 and \n",
    "#we can determine activity 1 is running as the accleration is high.\n",
    "#the maximum acceleration while walking is 2 and while running is 6  \n",
    "sns.stripplot(x=\"activity\", y=\"acceleration\", data=data)\n"
   ]
  },
  {
   "cell_type": "code",
   "execution_count": 6,
   "metadata": {},
   "outputs": [
    {
     "data": {
      "text/plain": [
       "1    46258\n",
       "0    42330\n",
       "Name: wrist, dtype: int64"
      ]
     },
     "execution_count": 6,
     "metadata": {},
     "output_type": "execute_result"
    }
   ],
   "source": [
    "#which hand victor worn the sensor\n",
    "data.wrist.value_counts()"
   ]
  },
  {
   "cell_type": "code",
   "execution_count": 60,
   "metadata": {},
   "outputs": [
    {
     "data": {
      "text/plain": [
       "Text(0.5, 0, 'count')"
      ]
     },
     "execution_count": 60,
     "metadata": {},
     "output_type": "execute_result"
    },
    {
     "data": {
      "image/png": "[encoded data removed]",
      "text/plain": [
       "<Figure size 1152x648 with 1 Axes>"
      ]
     },
     "metadata": {
      "needs_background": "light"
     },
     "output_type": "display_data"
    }
   ],
   "source": [
    "# Create a plot\n",
    "my_figsize = (16, 9)\n",
    "plt.figure(figsize=my_figsize)\n",
    "\n",
    "plt.title('gyroscope linechart')\n",
    "sns.lineplot(data=data['gyro_x'], label='gyro_x')\n",
    "sns.lineplot(data=data['gyro_y'], label='gyro_y')\n",
    "sns.lineplot(data=data['gyro_z'], label='gyro_z')\n",
    "plt.xlabel(\"count\")\n",
    "\n",
    "#gyroscope values are all over the place."
   ]
  },
  {
   "cell_type": "code",
   "execution_count": 59,
   "metadata": {},
   "outputs": [
    {
     "data": {
      "text/plain": [
       "Text(0.5, 0, 'count')"
      ]
     },
     "execution_count": 59,
     "metadata": {},
     "output_type": "execute_result"
    },
    {
     "data": {
      "image/png": "[encoded data removed]",
      "text/plain": [
       "<Figure size 1152x648 with 1 Axes>"
      ]
     },
     "metadata": {
      "needs_background": "light"
     },
     "output_type": "display_data"
    }
   ],
   "source": [
    "# Create a plot\n",
    "my_figsize = (16, 9)\n",
    "plt.figure(figsize=my_figsize)\n",
    "\n",
    "plt.title('Accelaration linechart')\n",
    "sns.lineplot(data=data['acceleration_x'], label='acceleration_x')\n",
    "sns.lineplot(data=data['acceleration_y'], label='acceleration_y')\n",
    "sns.lineplot(data=data['acceleration_z'], label='acceleration_z')\n",
    "plt.xlabel(\"count\")\n",
    "#there is a high rate of change in x followed by  y and z.There is possibility that the spike \n",
    "#in data is  while running and while walking there is less spike."
   ]
  },
  {
   "cell_type": "code",
   "execution_count": 20,
   "metadata": {},
   "outputs": [
    {
     "data": {
      "text/plain": [
       "1    44365\n",
       "0    44223\n",
       "Name: activity, dtype: int64"
      ]
     },
     "execution_count": 20,
     "metadata": {},
     "output_type": "execute_result"
    }
   ],
   "source": [
    "data.activity.value_counts()"
   ]
  },
  {
   "cell_type": "code",
   "execution_count": 21,
   "metadata": {},
   "outputs": [
    {
     "data": {
      "text/plain": [
       "<AxesSubplot:xlabel='wrist', ylabel='count'>"
      ]
     },
     "execution_count": 21,
     "metadata": {},
     "output_type": "execute_result"
    },
    {
     "data": {
      "image/png": "[encoded data removed]",
      "text/plain": [
       "<Figure size 432x288 with 1 Axes>"
      ]
     },
     "metadata": {
      "needs_background": "light"
     },
     "output_type": "display_data"
    }
   ],
   "source": [
    "#0 :left\n",
    "#1 :right\n",
    "#most of the people wear the band on the right hand\n",
    "sns.countplot(x='wrist', data=data)\n"
   ]
  },
  {
   "cell_type": "code",
   "execution_count": 22,
   "metadata": {},
   "outputs": [
    {
     "data": {
      "image/png": "[encoded data removed]",
      "text/plain": [
       "<Figure size 360x360 with 1 Axes>"
      ]
     },
     "metadata": {
      "needs_background": "light"
     },
     "output_type": "display_data"
    }
   ],
   "source": [
    "sns.displot(data['acceleration_x'],bins=60);\n",
    "#most of the values are concentrated b/w -1 and 1\n"
   ]
  },
  {
   "cell_type": "code",
   "execution_count": 23,
   "metadata": {},
   "outputs": [
    {
     "data": {
      "text/plain": [
       "count    88588.000000\n",
       "mean        -0.074811\n",
       "std          1.009299\n",
       "min         -5.350500\n",
       "25%         -0.381800\n",
       "50%         -0.059500\n",
       "75%          0.355500\n",
       "max          5.603300\n",
       "Name: acceleration_x, dtype: float64"
      ]
     },
     "execution_count": 23,
     "metadata": {},
     "output_type": "execute_result"
    }
   ],
   "source": [
    "data.acceleration_x.describe()"
   ]
  },
  {
   "cell_type": "code",
   "execution_count": 24,
   "metadata": {},
   "outputs": [
    {
     "data": {
      "image/png": "[encoded data removed]",
      "text/plain": [
       "<Figure size 360x360 with 1 Axes>"
      ]
     },
     "metadata": {
      "needs_background": "light"
     },
     "output_type": "display_data"
    }
   ],
   "source": [
    "sns.displot(data['acceleration_y'],bins=60);\n",
    "#most of the values are concentrated b/w -1.5to 0 than in increases slowly and then decreases."
   ]
  },
  {
   "cell_type": "code",
   "execution_count": 25,
   "metadata": {},
   "outputs": [
    {
     "data": {
      "text/plain": [
       "count    88588.000000\n",
       "mean        -0.562585\n",
       "std          0.658458\n",
       "min         -3.299000\n",
       "25%         -1.033500\n",
       "50%         -0.759100\n",
       "75%         -0.241775\n",
       "max          2.668000\n",
       "Name: acceleration_y, dtype: float64"
      ]
     },
     "execution_count": 25,
     "metadata": {},
     "output_type": "execute_result"
    }
   ],
   "source": [
    "data.acceleration_y.describe()"
   ]
  },
  {
   "cell_type": "code",
   "execution_count": 26,
   "metadata": {},
   "outputs": [
    {
     "data": {
      "image/png": "[encoded data removed]",
      "text/plain": [
       "<Figure size 360x360 with 1 Axes>"
      ]
     },
     "metadata": {
      "needs_background": "light"
     },
     "output_type": "display_data"
    }
   ],
   "source": [
    "sns.displot(data['acceleration_z'],bins=60);\n",
    "#values in increses from -2 to 0 and then suddenly dips to 1"
   ]
  },
  {
   "cell_type": "code",
   "execution_count": 27,
   "metadata": {},
   "outputs": [
    {
     "data": {
      "text/plain": [
       "count    88588.000000\n",
       "mean        -0.313956\n",
       "std          0.486815\n",
       "min         -3.753800\n",
       "25%         -0.376000\n",
       "50%         -0.221000\n",
       "75%         -0.085900\n",
       "max          1.640300\n",
       "Name: acceleration_z, dtype: float64"
      ]
     },
     "execution_count": 27,
     "metadata": {},
     "output_type": "execute_result"
    }
   ],
   "source": [
    "data.acceleration_z.describe()"
   ]
  },
  {
   "cell_type": "code",
   "execution_count": 28,
   "metadata": {},
   "outputs": [
    {
     "data": {
      "image/png": "[encoded data removed]",
      "text/plain": [
       "<Figure size 360x360 with 1 Axes>"
      ]
     },
     "metadata": {
      "needs_background": "light"
     },
     "output_type": "display_data"
    }
   ],
   "source": [
    "sns.displot(data['gyro_x'],bins=60);\n",
    "#most of the values are b/w -4 to 4"
   ]
  },
  {
   "cell_type": "code",
   "execution_count": 29,
   "metadata": {},
   "outputs": [
    {
     "data": {
      "text/plain": [
       "count    88588.000000\n",
       "mean         0.004160\n",
       "std          1.253423\n",
       "min         -4.430600\n",
       "25%         -0.920700\n",
       "50%          0.018700\n",
       "75%          0.888800\n",
       "max          4.874200\n",
       "Name: gyro_x, dtype: float64"
      ]
     },
     "execution_count": 29,
     "metadata": {},
     "output_type": "execute_result"
    }
   ],
   "source": [
    "data.gyro_x.describe()"
   ]
  },
  {
   "cell_type": "code",
   "execution_count": 30,
   "metadata": {},
   "outputs": [
    {
     "data": {
      "image/png": "[encoded data removed]",
      "text/plain": [
       "<Figure size 360x360 with 1 Axes>"
      ]
     },
     "metadata": {
      "needs_background": "light"
     },
     "output_type": "display_data"
    }
   ],
   "source": [
    "sns.displot(data['gyro_y'],bins=60);\n",
    "#most of the values are b/w -4 to 4"
   ]
  },
  {
   "cell_type": "code",
   "execution_count": 31,
   "metadata": {},
   "outputs": [
    {
     "data": {
      "text/plain": [
       "count    88588.000000\n",
       "mean         0.037203\n",
       "std          1.198725\n",
       "min         -7.464700\n",
       "25%         -0.644825\n",
       "50%          0.039300\n",
       "75%          0.733700\n",
       "max          8.498000\n",
       "Name: gyro_y, dtype: float64"
      ]
     },
     "execution_count": 31,
     "metadata": {},
     "output_type": "execute_result"
    }
   ],
   "source": [
    "data.gyro_y.describe()"
   ]
  },
  {
   "cell_type": "code",
   "execution_count": 32,
   "metadata": {},
   "outputs": [
    {
     "data": {
      "image/png": "[encoded data removed]",
      "text/plain": [
       "<Figure size 360x360 with 1 Axes>"
      ]
     },
     "metadata": {
      "needs_background": "light"
     },
     "output_type": "display_data"
    }
   ],
   "source": [
    "sns.displot(data['gyro_z'],bins=60);\n",
    "#most of the values are b/w -5 to 5"
   ]
  },
  {
   "cell_type": "code",
   "execution_count": 33,
   "metadata": {},
   "outputs": [
    {
     "data": {
      "text/plain": [
       "count    88588.000000\n",
       "mean         0.022327\n",
       "std          1.914423\n",
       "min         -9.480000\n",
       "25%         -1.345125\n",
       "50%          0.006900\n",
       "75%          1.398200\n",
       "max         11.266200\n",
       "Name: gyro_z, dtype: float64"
      ]
     },
     "execution_count": 33,
     "metadata": {},
     "output_type": "execute_result"
    }
   ],
   "source": [
    "data.gyro_z.describe()"
   ]
  },
  {
   "cell_type": "code",
   "execution_count": 29,
   "metadata": {},
   "outputs": [
    {
     "data": {
      "text/plain": [
       "<seaborn.axisgrid.PairGrid at 0x7fc6821e7a00>"
      ]
     },
     "execution_count": 29,
     "metadata": {},
     "output_type": "execute_result"
    },
    {
     "data": {
      "image/png": "[encoded data removed]",
      "text/plain": [
       "<Figure size 540x180 with 3 Axes>"
      ]
     },
     "metadata": {
      "needs_background": "light"
     },
     "output_type": "display_data"
    }
   ],
   "source": [
    "sns.pairplot(data=data,\n",
    "                  y_vars=['activity'],\n",
    "                  x_vars=['acceleration_x', 'acceleration_y', 'acceleration_z'])\n",
    "#if you look at 3 plots we can find that \n",
    "#if x cordinate is more than +-1.5  then the user is running\n",
    "#if y cordinate is less than -2.0  then the user is running or if >0 user\n",
    "#if z cordinate is less than -1.7  then the user is running or if >.2(approx)"
   ]
  },
  {
   "cell_type": "code",
   "execution_count": 28,
   "metadata": {},
   "outputs": [
    {
     "data": {
      "text/plain": [
       "<seaborn.axisgrid.PairGrid at 0x7fc7a66595e0>"
      ]
     },
     "execution_count": 28,
     "metadata": {},
     "output_type": "execute_result"
    },
    {
     "data": {
      "image/png": "[encoded data removed]",
      "text/plain": [
       "<Figure size 540x180 with 3 Axes>"
      ]
     },
     "metadata": {
      "needs_background": "light"
     },
     "output_type": "display_data"
    }
   ],
   "source": [
    "sns.pairplot(data=data,\n",
    "                  y_vars=['activity'],\n",
    "                  x_vars=['gyro_x', 'gyro_y', 'gyro_z'])\n",
    "#if you look at 3 plots we can find that \n",
    "#compared to accelerometer values ,we cannot make such conclusions here..because there is \n",
    "#only a less difference b/w walking and running in x and y gyroscope values but in Z cordinate\n",
    "#if the value is +-5 the user is running."
   ]
  },
  {
   "cell_type": "markdown",
   "metadata": {},
   "source": [
    "# Bivariate analysis"
   ]
  },
  {
   "cell_type": "markdown",
   "metadata": {},
   "source": [
    " acceleration x :when the acceleration x is -1 to 1,it implies the user is walking and if b/w -4 to 4 the user is running\n",
    " \n",
    "acceleration y :if the acceleration is b/w -2 t 0,the user is walking and if b/w -2 to 2 the user is running\n",
    "\n",
    "acceleration z :if the acceleration is b/w -1 to 0,user is walking and if b/w 3 to 1 user is running\n",
    "\n",
    "note:there is no big no huge difference blw values in gyro compared to accelerometer\n",
    "\n",
    "gyro x :if the gyro is b/w -3 t 3,the user is walking and if b/w -4 to 4 the user is running\n",
    "\n",
    "gyro y :if the gyro is b/w -4 t 4,the user is walking and if b/w -6 to 6 the user is running\n",
    "\n",
    "gyro z :if the gyro is b/w -5 t 5,the user is walking and if b/w -4.5 to 4.5 the user is running\n"
   ]
  },
  {
   "cell_type": "code",
   "execution_count": 87,
   "metadata": {},
   "outputs": [
    {
     "data": {
      "image/png": "[encoded data removed]",
      "text/plain": [
       "<Figure size 1080x1440 with 7 Axes>"
      ]
     },
     "metadata": {},
     "output_type": "display_data"
    }
   ],
   "source": [
    "box=data[['acceleration_x','acceleration_y','acceleration_z','gyro_x','gyro_y','gyro_z','acceleration']]\n",
    "plt.figure(figsize=(15,20), facecolor='white')\n",
    "\n",
    "plotnumber = 1\n",
    "\n",
    "for column in box:\n",
    "    if plotnumber<=8 :     \n",
    "        ax = plt.subplot(8,2,plotnumber)\n",
    "        sns.stripplot(x='activity', y=box[column], hue=data.activity, data=data)\n",
    "        plt.xlabel(\"activity\",fontsize=20)\n",
    "        plt.tight_layout()\n",
    "    plotnumber+=1\n",
    "plt.show()\n"
   ]
  },
  {
   "cell_type": "markdown",
   "metadata": {},
   "source": [
    "# Outlier Treatment "
   ]
  },
  {
   "cell_type": "code",
   "execution_count": 33,
   "metadata": {},
   "outputs": [
    {
     "data": {
      "image/png": "[encoded data removed]",
      "text/plain": [
       "<Figure size 1080x1440 with 5 Axes>"
      ]
     },
     "metadata": {},
     "output_type": "display_data"
    }
   ],
   "source": [
    "## Lets check outliers in any\n",
    "# there are outliers in almost all t`ahe featurs.Certain models like Logistic regression models,\n",
    "#are highly influenced by outliers.So it is better to treat the outlier before using this model,\n",
    "#or use a different model where outlier treatment is not necessary eg.decision tree.\n",
    "\n",
    "#in this case there are so many outliers ,in that case it should not be considered as outliers but valid data\n",
    "box=data[['acceleration_x','acceleration_y','acceleration_z', 'gyro_x','gyro_y','gyro_z']]\n",
    "plt.figure(figsize=(15,20), facecolor='white')\n",
    "\n",
    "plotnumber = 1\n",
    "\n",
    "for column in box:\n",
    "    if plotnumber<=5 :     \n",
    "        ax = plt.subplot(5,2,plotnumber)\n",
    "        sns.boxplot(x=box[column])\n",
    "        plt.xlabel(column,fontsize=20)\n",
    "        plt.tight_layout()\n",
    "    plotnumber+=1\n",
    "plt.show()"
   ]
  },
  {
   "cell_type": "markdown",
   "metadata": {},
   "source": [
    " # Feature selection\n",
    "Feature selection is the process of reducing the number of input variables when developing a predictive model. It is desirable to reduce the number of input variables to both reduce the computational cost of modeling and, in some cases, to improve the performance of the model"
   ]
  },
  {
   "cell_type": "code",
   "execution_count": 16,
   "metadata": {},
   "outputs": [
    {
     "data": {
      "text/plain": [
       "<AxesSubplot:>"
      ]
     },
     "execution_count": 16,
     "metadata": {},
     "output_type": "execute_result"
    },
    {
     "data": {
      "image/png": "[encoded data removed]",
      "text/plain": [
       "<Figure size 2160x2160 with 2 Axes>"
      ]
     },
     "metadata": {
      "needs_background": "light"
     },
     "output_type": "display_data"
    }
   ],
   "source": [
    "## Checking correlation\n",
    "\n",
    "plt.figure(figsize=(30, 30))\n",
    "sns.heatmap(data.corr(), annot=True, cmap=\"RdYlGn\", annot_kws={\"size\":10})\n",
    "#there is no high correlation so,it is not wise to remove any features.\n"
   ]
  },
  {
   "cell_type": "markdown",
   "metadata": {},
   "source": [
    "# Model Creation- logistic model\n"
   ]
  },
  {
   "cell_type": "code",
   "execution_count": 15,
   "metadata": {},
   "outputs": [],
   "source": [
    "### model creation\n",
    "X = data.drop(columns = ['activity','acceleration','username'])\n",
    "y = data['activity']"
   ]
  },
  {
   "cell_type": "code",
   "execution_count": 16,
   "metadata": {},
   "outputs": [],
   "source": [
    "## training and testing data\n",
    "X_train,X_test,y_train,y_test=train_test_split(X,y,test_size = 0.30,random_state=42)"
   ]
  },
  {
   "cell_type": "code",
   "execution_count": 17,
   "metadata": {},
   "outputs": [
    {
     "data": {
      "text/plain": [
       "LogisticRegression()"
      ]
     },
     "execution_count": 17,
     "metadata": {},
     "output_type": "execute_result"
    }
   ],
   "source": [
    "##Model creation\n",
    "from sklearn.linear_model import LogisticRegression\n",
    "log_reg = LogisticRegression()\n",
    "\n",
    "log_reg.fit(X_train,y_train)"
   ]
  },
  {
   "cell_type": "code",
   "execution_count": 18,
   "metadata": {},
   "outputs": [],
   "source": [
    "y_pred = log_reg.predict(X_test)"
   ]
  },
  {
   "cell_type": "code",
   "execution_count": 19,
   "metadata": {},
   "outputs": [
    {
     "name": "stdout",
     "output_type": "stream",
     "text": [
      "0.8633404823719758\n"
     ]
    }
   ],
   "source": [
    "## calculating accuracy\n",
    "from sklearn.metrics import accuracy_score,auc, confusion_matrix,precision_score,recall_score\n",
    "accuracy = accuracy_score(y_test,y_pred)\n",
    "print(accuracy)"
   ]
  },
  {
   "cell_type": "code",
   "execution_count": 20,
   "metadata": {},
   "outputs": [
    {
     "data": {
      "text/plain": [
       "0.8998913679284699"
      ]
     },
     "execution_count": 20,
     "metadata": {},
     "output_type": "execute_result"
    }
   ],
   "source": [
    "# Precison\n",
    "Precision = precision_score(y_test,y_pred)\n",
    "Precision"
   ]
  },
  {
   "cell_type": "code",
   "execution_count": 99,
   "metadata": {},
   "outputs": [
    {
     "data": {
      "text/plain": [
       "0.8156479587972431"
      ]
     },
     "execution_count": 99,
     "metadata": {},
     "output_type": "execute_result"
    }
   ],
   "source": [
    "# Recall\n",
    "Recall = recall_score(y_test,y_pred)\n",
    "Recall\n"
   ]
  },
  {
   "cell_type": "code",
   "execution_count": 21,
   "metadata": {},
   "outputs": [
    {
     "data": {
      "text/plain": [
       "0.8557012316249504"
      ]
     },
     "execution_count": 21,
     "metadata": {},
     "output_type": "execute_result"
    }
   ],
   "source": [
    "# F1 Score\n",
    "F1_Score = f1_score(y_test,y_pred)\n",
    "F1_Score"
   ]
  },
  {
   "cell_type": "code",
   "execution_count": 101,
   "metadata": {},
   "outputs": [
    {
     "data": {
      "text/plain": [
       "0.8630355840045734"
      ]
     },
     "execution_count": 101,
     "metadata": {},
     "output_type": "execute_result"
    }
   ],
   "source": [
    "# Area Under Curve\n",
    "auc = roc_auc_score(y_test, y_pred)\n",
    "auc"
   ]
  },
  {
   "cell_type": "code",
   "execution_count": 22,
   "metadata": {},
   "outputs": [
    {
     "data": {
      "text/html": [
       "<div>\n",
       "<style scoped>\n",
       "    .dataframe tbody tr th:only-of-type {\n",
       "        vertical-align: middle;\n",
       "    }\n",
       "\n",
       "    .dataframe tbody tr th {\n",
       "        vertical-align: top;\n",
       "    }\n",
       "\n",
       "    .dataframe thead th {\n",
       "        text-align: right;\n",
       "    }\n",
       "</style>\n",
       "<table border=\"1\" class=\"dataframe\">\n",
       "  <thead>\n",
       "    <tr style=\"text-align: right;\">\n",
       "      <th>col_0</th>\n",
       "      <th>0</th>\n",
       "      <th>1</th>\n",
       "    </tr>\n",
       "    <tr>\n",
       "      <th>activity</th>\n",
       "      <th></th>\n",
       "      <th></th>\n",
       "    </tr>\n",
       "  </thead>\n",
       "  <tbody>\n",
       "    <tr>\n",
       "      <th>0</th>\n",
       "      <td>12176</td>\n",
       "      <td>1198</td>\n",
       "    </tr>\n",
       "    <tr>\n",
       "      <th>1</th>\n",
       "      <td>2434</td>\n",
       "      <td>10769</td>\n",
       "    </tr>\n",
       "  </tbody>\n",
       "</table>\n",
       "</div>"
      ],
      "text/plain": [
       "col_0         0      1\n",
       "activity              \n",
       "0         12176   1198\n",
       "1          2434  10769"
      ]
     },
     "execution_count": 22,
     "metadata": {},
     "output_type": "execute_result"
    }
   ],
   "source": [
    "pd.crosstab(y_test, y_pred)"
   ]
  },
  {
   "cell_type": "code",
   "execution_count": 23,
   "metadata": {},
   "outputs": [
    {
     "name": "stdout",
     "output_type": "stream",
     "text": [
      "              precision    recall  f1-score   support\n",
      "\n",
      "           0       0.83      0.91      0.87     13374\n",
      "           1       0.90      0.82      0.86     13203\n",
      "\n",
      "    accuracy                           0.86     26577\n",
      "   macro avg       0.87      0.86      0.86     26577\n",
      "weighted avg       0.87      0.86      0.86     26577\n",
      "\n"
     ]
    }
   ],
   "source": [
    " from sklearn.metrics import classification_report\n",
    "\n",
    "report=classification_report(y_test, y_pred)\n",
    "print(report)"
   ]
  },
  {
   "cell_type": "code",
   "execution_count": 104,
   "metadata": {},
   "outputs": [],
   "source": [
    "fpr,tpr,threshold=roc_curve(y_test, y_pred)"
   ]
  },
  {
   "cell_type": "code",
   "execution_count": 105,
   "metadata": {},
   "outputs": [
    {
     "name": "stdout",
     "output_type": "stream",
     "text": [
      "[2 1 0]\n"
     ]
    }
   ],
   "source": [
    "print (threshold)"
   ]
  },
  {
   "cell_type": "code",
   "execution_count": 106,
   "metadata": {},
   "outputs": [
    {
     "data": {
      "image/png": "[encoded data removed]",
      "text/plain": [
       "<Figure size 432x288 with 1 Axes>"
      ]
     },
     "metadata": {
      "needs_background": "light"
     },
     "output_type": "display_data"
    }
   ],
   "source": [
    "plt.plot(fpr, tpr, color='orange', label='ROC')\n",
    "plt.plot([0, 1], [0, 1], color='darkblue', linestyle='--',label='ROC curve (area = %0.2f)' % auc)\n",
    "plt.xlabel('False Positive Rate')\n",
    "plt.ylabel('True Positive Rate')\n",
    "plt.title('Receiver Operating Characteristic (ROC) Curve')\n",
    "plt.legend()\n",
    "plt.show()"
   ]
  },
  {
   "cell_type": "code",
   "execution_count": 27,
   "metadata": {},
   "outputs": [
    {
     "name": "stdout",
     "output_type": "stream",
     "text": [
      "tpr  [0.         0.92259335 1.        ]\n",
      "fpr  [0.         0.02729176 1.        ]\n",
      "thresholds  [2 1 0]\n",
      "roc_auc_score 0.9476507949323071\n",
      "Threshold value is: 1\n"
     ]
    },
    {
     "data": {
      "image/png": "[encoded data removed]",
      "text/plain": [
       "<Figure size 432x288 with 1 Axes>"
      ]
     },
     "metadata": {
      "needs_background": "light"
     },
     "output_type": "display_data"
    }
   ],
   "source": [
    "def plot_roc_curve(fpr, tpr):\n",
    "    plt.plot(fpr, tpr, color='orange', label='ROC')\n",
    "    plt.plot([0, 1], [0, 1], color='darkblue', linestyle='--')\n",
    "    plt.xlabel('False Positive Rate')\n",
    "    plt.ylabel('True Positive Rate')\n",
    "    plt.title('Receiver Operating Characteristic (ROC) Curve')\n",
    "    plt.legend()\n",
    "    plt.show()\n",
    "\n",
    "fpr, tpr, thresholds = roc_curve(y_test, y_pred)\n",
    "print(\"tpr \",tpr)\n",
    "print(\"fpr \",fpr)\n",
    "print(\"thresholds \",thresholds)\n",
    "print(\"roc_auc_score\" ,roc_auc_score(y_test, y_pred))\n",
    "optimal_idx = np.argmax(tpr - fpr)\n",
    "optimal_threshold = thresholds[optimal_idx]\n",
    "print(\"Threshold value is:\", optimal_threshold)\n",
    "plot_roc_curve(fpr, tpr)"
   ]
  },
  {
   "cell_type": "markdown",
   "metadata": {},
   "source": [
    "# Improvement in  Logistic Regression with added feature acceleration"
   ]
  },
  {
   "cell_type": "code",
   "execution_count": 24,
   "metadata": {},
   "outputs": [],
   "source": [
    "### model creation\n",
    "X1 = data.drop(columns = ['activity','username'])\n",
    "y = data['activity']"
   ]
  },
  {
   "cell_type": "code",
   "execution_count": 25,
   "metadata": {},
   "outputs": [],
   "source": [
    "## training and testing data\n",
    "X_train,X_test,y_train,y_test=train_test_split(X1,y,test_size = 0.30,random_state=42)"
   ]
  },
  {
   "cell_type": "code",
   "execution_count": 26,
   "metadata": {},
   "outputs": [
    {
     "data": {
      "text/plain": [
       "LogisticRegression()"
      ]
     },
     "execution_count": 26,
     "metadata": {},
     "output_type": "execute_result"
    }
   ],
   "source": [
    "##Model creation\n",
    "from sklearn.linear_model import LogisticRegression\n",
    "log_reg = LogisticRegression()\n",
    "\n",
    "log_reg.fit(X_train,y_train)"
   ]
  },
  {
   "cell_type": "code",
   "execution_count": 27,
   "metadata": {},
   "outputs": [],
   "source": [
    "y_pred = log_reg.predict(X_test)"
   ]
  },
  {
   "cell_type": "code",
   "execution_count": 28,
   "metadata": {},
   "outputs": [
    {
     "name": "stdout",
     "output_type": "stream",
     "text": [
      "0.9478120179102231\n"
     ]
    }
   ],
   "source": [
    "## calculating accuracy\n",
    "from sklearn.metrics import accuracy_score,auc, confusion_matrix,precision_score,recall_score\n",
    "accuracy = accuracy_score(y_test,y_pred)\n",
    "print(accuracy)"
   ]
  },
  {
   "cell_type": "code",
   "execution_count": 130,
   "metadata": {},
   "outputs": [
    {
     "data": {
      "text/plain": [
       "0.9709070620117966"
      ]
     },
     "execution_count": 130,
     "metadata": {},
     "output_type": "execute_result"
    }
   ],
   "source": [
    "# Precison\n",
    "Precision = precision_score(y_test,y_pred)\n",
    "Precision"
   ]
  },
  {
   "cell_type": "code",
   "execution_count": 131,
   "metadata": {},
   "outputs": [
    {
     "data": {
      "text/plain": [
       "0.922593349996213"
      ]
     },
     "execution_count": 131,
     "metadata": {},
     "output_type": "execute_result"
    }
   ],
   "source": [
    "# Recall\n",
    "Recall = recall_score(y_test,y_pred)\n",
    "Recall\n"
   ]
  },
  {
   "cell_type": "code",
   "execution_count": 132,
   "metadata": {},
   "outputs": [
    {
     "data": {
      "text/plain": [
       "0.9461338304400172"
      ]
     },
     "execution_count": 132,
     "metadata": {},
     "output_type": "execute_result"
    }
   ],
   "source": [
    "# F1 Score\n",
    "F1_Score = f1_score(y_test,y_pred)\n",
    "F1_Score"
   ]
  },
  {
   "cell_type": "code",
   "execution_count": 133,
   "metadata": {},
   "outputs": [
    {
     "data": {
      "text/plain": [
       "0.9476507949323071"
      ]
     },
     "execution_count": 133,
     "metadata": {},
     "output_type": "execute_result"
    }
   ],
   "source": [
    "# Area Under Curve\n",
    "auc = roc_auc_score(y_test, y_pred)\n",
    "auc"
   ]
  },
  {
   "cell_type": "code",
   "execution_count": 134,
   "metadata": {},
   "outputs": [
    {
     "data": {
      "text/html": [
       "<div>\n",
       "<style scoped>\n",
       "    .dataframe tbody tr th:only-of-type {\n",
       "        vertical-align: middle;\n",
       "    }\n",
       "\n",
       "    .dataframe tbody tr th {\n",
       "        vertical-align: top;\n",
       "    }\n",
       "\n",
       "    .dataframe thead th {\n",
       "        text-align: right;\n",
       "    }\n",
       "</style>\n",
       "<table border=\"1\" class=\"dataframe\">\n",
       "  <thead>\n",
       "    <tr style=\"text-align: right;\">\n",
       "      <th>col_0</th>\n",
       "      <th>0</th>\n",
       "      <th>1</th>\n",
       "    </tr>\n",
       "    <tr>\n",
       "      <th>activity</th>\n",
       "      <th></th>\n",
       "      <th></th>\n",
       "    </tr>\n",
       "  </thead>\n",
       "  <tbody>\n",
       "    <tr>\n",
       "      <th>0</th>\n",
       "      <td>13009</td>\n",
       "      <td>365</td>\n",
       "    </tr>\n",
       "    <tr>\n",
       "      <th>1</th>\n",
       "      <td>1022</td>\n",
       "      <td>12181</td>\n",
       "    </tr>\n",
       "  </tbody>\n",
       "</table>\n",
       "</div>"
      ],
      "text/plain": [
       "col_0         0      1\n",
       "activity              \n",
       "0         13009    365\n",
       "1          1022  12181"
      ]
     },
     "execution_count": 134,
     "metadata": {},
     "output_type": "execute_result"
    }
   ],
   "source": [
    "pd.crosstab(y_test, y_pred)\n",
    "#the accuracy has increased drstically but there is misclassification on running ,1022 values are showing \n",
    "#as running but is actually walking. This model will not be feasible"
   ]
  },
  {
   "cell_type": "code",
   "execution_count": null,
   "metadata": {},
   "outputs": [],
   "source": []
  },
  {
   "cell_type": "markdown",
   "metadata": {},
   "source": [
    "# Model 2 Decision Tree"
   ]
  },
  {
   "cell_type": "code",
   "execution_count": 29,
   "metadata": {},
   "outputs": [],
   "source": [
    "# preparing training and testing data\n",
    "from sklearn.model_selection import train_test_split\n",
    "\n",
    "\n",
    "\n",
    "X_train, X_test, y_train, y_test = train_test_split(X, y, test_size=0.25, random_state=42)"
   ]
  },
  {
   "cell_type": "code",
   "execution_count": 30,
   "metadata": {},
   "outputs": [],
   "source": [
    "from sklearn.tree import DecisionTreeClassifier\n",
    "dt=DecisionTreeClassifier()\n",
    "dt.fit(X_train,y_train)\n",
    "y_hat=dt.predict(X_test)"
   ]
  },
  {
   "cell_type": "code",
   "execution_count": 31,
   "metadata": {},
   "outputs": [
    {
     "data": {
      "text/plain": [
       "1.0"
      ]
     },
     "execution_count": 31,
     "metadata": {},
     "output_type": "execute_result"
    }
   ],
   "source": [
    "## Evalauting the model\n",
    "from sklearn.metrics import accuracy_score,classification_report,f1_score\n",
    "##Training score\n",
    "y_train_predict=dt.predict(X_train)\n",
    "acc_train=accuracy_score(y_train,y_train_predict)\n",
    "acc_train"
   ]
  },
  {
   "cell_type": "code",
   "execution_count": 32,
   "metadata": {},
   "outputs": [
    {
     "name": "stdout",
     "output_type": "stream",
     "text": [
      "              precision    recall  f1-score   support\n",
      "\n",
      "           0       1.00      1.00      1.00     33061\n",
      "           1       1.00      1.00      1.00     33380\n",
      "\n",
      "    accuracy                           1.00     66441\n",
      "   macro avg       1.00      1.00      1.00     66441\n",
      "weighted avg       1.00      1.00      1.00     66441\n",
      "\n"
     ]
    }
   ],
   "source": [
    "print(classification_report(y_train,y_train_predict))"
   ]
  },
  {
   "cell_type": "code",
   "execution_count": 33,
   "metadata": {},
   "outputs": [
    {
     "data": {
      "text/plain": [
       "0.9855962432835147"
      ]
     },
     "execution_count": 33,
     "metadata": {},
     "output_type": "execute_result"
    }
   ],
   "source": [
    "## test acc\n",
    "test_acc=accuracy_score(y_test,y_hat)\n",
    "test_acc"
   ]
  },
  {
   "cell_type": "code",
   "execution_count": 140,
   "metadata": {},
   "outputs": [
    {
     "data": {
      "text/plain": [
       "0.9851397409679618"
      ]
     },
     "execution_count": 140,
     "metadata": {},
     "output_type": "execute_result"
    }
   ],
   "source": [
    "## test score\n",
    "test_f1=f1_score(y_test,y_hat)\n",
    "test_f1"
   ]
  },
  {
   "cell_type": "code",
   "execution_count": 34,
   "metadata": {},
   "outputs": [
    {
     "data": {
      "text/html": [
       "<div>\n",
       "<style scoped>\n",
       "    .dataframe tbody tr th:only-of-type {\n",
       "        vertical-align: middle;\n",
       "    }\n",
       "\n",
       "    .dataframe tbody tr th {\n",
       "        vertical-align: top;\n",
       "    }\n",
       "\n",
       "    .dataframe thead th {\n",
       "        text-align: right;\n",
       "    }\n",
       "</style>\n",
       "<table border=\"1\" class=\"dataframe\">\n",
       "  <thead>\n",
       "    <tr style=\"text-align: right;\">\n",
       "      <th>col_0</th>\n",
       "      <th>0</th>\n",
       "      <th>1</th>\n",
       "    </tr>\n",
       "    <tr>\n",
       "      <th>activity</th>\n",
       "      <th></th>\n",
       "      <th></th>\n",
       "    </tr>\n",
       "  </thead>\n",
       "  <tbody>\n",
       "    <tr>\n",
       "      <th>0</th>\n",
       "      <td>10990</td>\n",
       "      <td>172</td>\n",
       "    </tr>\n",
       "    <tr>\n",
       "      <th>1</th>\n",
       "      <td>147</td>\n",
       "      <td>10838</td>\n",
       "    </tr>\n",
       "  </tbody>\n",
       "</table>\n",
       "</div>"
      ],
      "text/plain": [
       "col_0         0      1\n",
       "activity              \n",
       "0         10990    172\n",
       "1           147  10838"
      ]
     },
     "execution_count": 34,
     "metadata": {},
     "output_type": "execute_result"
    }
   ],
   "source": [
    "pd.crosstab(y_test,y_hat)"
   ]
  },
  {
   "cell_type": "markdown",
   "metadata": {},
   "source": [
    "# Hyperparameter  Tuning for  DecisionTree"
   ]
  },
  {
   "cell_type": "code",
   "execution_count": 35,
   "metadata": {},
   "outputs": [],
   "source": [
    "from sklearn.model_selection import GridSearchCV"
   ]
  },
  {
   "cell_type": "code",
   "execution_count": 36,
   "metadata": {},
   "outputs": [
    {
     "name": "stdout",
     "output_type": "stream",
     "text": [
      "Fitting 3 folds for each of 4332 candidates, totalling 12996 fits\n",
      "Best paramters: {'criterion': 'entropy', 'max_depth': 18, 'min_samples_leaf': 3, 'min_samples_split': 2, 'splitter': 'best'})\n"
     ]
    }
   ],
   "source": [
    "\n",
    "\n",
    "params = {\n",
    "    \"criterion\":(\"gini\", \"entropy\"), \n",
    "    \"splitter\":(\"best\", \"random\"), \n",
    "    \"max_depth\":(list(range(1, 20))), \n",
    "    \"min_samples_split\":[2, 3, 4], \n",
    "    \"min_samples_leaf\":list(range(1, 20)), \n",
    "}\n",
    "\n",
    "\n",
    "tree_clf = DecisionTreeClassifier(random_state=3)\n",
    "tree_cv = GridSearchCV(tree_clf, params, scoring=\"f1\", n_jobs=-1, verbose=1, cv=3)\n",
    "tree_cv.fit(X_train,y_train)\n",
    "best_params = tree_cv.best_params_\n",
    "print(f\"Best paramters: {best_params})\")"
   ]
  },
  {
   "cell_type": "code",
   "execution_count": 37,
   "metadata": {},
   "outputs": [
    {
     "data": {
      "text/plain": [
       "{'criterion': 'entropy',\n",
       " 'max_depth': 18,\n",
       " 'min_samples_leaf': 3,\n",
       " 'min_samples_split': 2,\n",
       " 'splitter': 'best'}"
      ]
     },
     "execution_count": 37,
     "metadata": {},
     "output_type": "execute_result"
    }
   ],
   "source": [
    " tree_cv.best_params_\n"
   ]
  },
  {
   "cell_type": "code",
   "execution_count": 38,
   "metadata": {},
   "outputs": [
    {
     "data": {
      "text/plain": [
       "0.985996272979218"
      ]
     },
     "execution_count": 38,
     "metadata": {},
     "output_type": "execute_result"
    }
   ],
   "source": [
    "tree_cv.best_score_"
   ]
  },
  {
   "cell_type": "code",
   "execution_count": 41,
   "metadata": {},
   "outputs": [],
   "source": [
    "#add the new best parameters\n",
    "dt1=DecisionTreeClassifier(criterion='entropy',max_depth=10,min_samples_leaf=2,min_samples_split=2,splitter='random')"
   ]
  },
  {
   "cell_type": "code",
   "execution_count": 42,
   "metadata": {},
   "outputs": [
    {
     "data": {
      "text/plain": [
       "DecisionTreeClassifier(criterion='entropy', max_depth=10, min_samples_leaf=2,\n",
       "                       splitter='random')"
      ]
     },
     "execution_count": 42,
     "metadata": {},
     "output_type": "execute_result"
    }
   ],
   "source": [
    " dt1.fit(X_train,y_train)"
   ]
  },
  {
   "cell_type": "code",
   "execution_count": 43,
   "metadata": {},
   "outputs": [],
   "source": [
    " y_hat1=dt1.predict(X_test)"
   ]
  },
  {
   "cell_type": "code",
   "execution_count": 44,
   "metadata": {},
   "outputs": [
    {
     "name": "stdout",
     "output_type": "stream",
     "text": [
      "              precision    recall  f1-score   support\n",
      "\n",
      "           0       0.95      0.97      0.96     11162\n",
      "           1       0.97      0.94      0.96     10985\n",
      "\n",
      "    accuracy                           0.96     22147\n",
      "   macro avg       0.96      0.96      0.96     22147\n",
      "weighted avg       0.96      0.96      0.96     22147\n",
      "\n"
     ]
    }
   ],
   "source": [
    " print(classification_report(y_test,y_hat1))"
   ]
  },
  {
   "cell_type": "markdown",
   "metadata": {},
   "source": [
    "# Model 3 RandomForest Implementation\n"
   ]
  },
  {
   "cell_type": "code",
   "execution_count": 45,
   "metadata": {},
   "outputs": [
    {
     "data": {
      "text/plain": [
       "RandomForestClassifier()"
      ]
     },
     "execution_count": 45,
     "metadata": {},
     "output_type": "execute_result"
    }
   ],
   "source": [
    "from sklearn.ensemble import RandomForestClassifier\n",
    "\n",
    "rf_clf = RandomForestClassifier(n_estimators=100)\n",
    "rf_clf.fit(X_train,y_train)\n"
   ]
  },
  {
   "cell_type": "code",
   "execution_count": 46,
   "metadata": {},
   "outputs": [],
   "source": [
    "y_predict=rf_clf.predict(X_test)"
   ]
  },
  {
   "cell_type": "code",
   "execution_count": 47,
   "metadata": {},
   "outputs": [
    {
     "name": "stdout",
     "output_type": "stream",
     "text": [
      "              precision    recall  f1-score   support\n",
      "\n",
      "           0       0.99      0.99      0.99     11162\n",
      "           1       0.99      0.99      0.99     10985\n",
      "\n",
      "    accuracy                           0.99     22147\n",
      "   macro avg       0.99      0.99      0.99     22147\n",
      "weighted avg       0.99      0.99      0.99     22147\n",
      "\n"
     ]
    }
   ],
   "source": [
    "print(classification_report(y_test,y_predict))"
   ]
  },
  {
   "cell_type": "code",
   "execution_count": 48,
   "metadata": {},
   "outputs": [
    {
     "data": {
      "text/plain": [
       "array([[11075,    87],\n",
       "       [   80, 10905]])"
      ]
     },
     "execution_count": 48,
     "metadata": {},
     "output_type": "execute_result"
    }
   ],
   "source": [
    "confusion_matrix(y_test,y_predict)"
   ]
  },
  {
   "cell_type": "code",
   "execution_count": 49,
   "metadata": {},
   "outputs": [
    {
     "data": {
      "text/plain": [
       "0.9924011466533192"
      ]
     },
     "execution_count": 49,
     "metadata": {},
     "output_type": "execute_result"
    }
   ],
   "source": [
    "f_Score=f1_score(y_test,y_predict)\n",
    "f_Score"
   ]
  },
  {
   "cell_type": "markdown",
   "metadata": {},
   "source": [
    "# Hyperparameter Tuning for random forest"
   ]
  },
  {
   "cell_type": "code",
   "execution_count": 50,
   "metadata": {},
   "outputs": [
    {
     "name": "stdout",
     "output_type": "stream",
     "text": [
      "Fitting 3 folds for each of 50 candidates, totalling 150 fits\n",
      "Best paramters: {'n_estimators': 400, 'min_samples_split': 2, 'min_samples_leaf': 1, 'max_features': 'sqrt', 'max_depth': None, 'bootstrap': False})\n"
     ]
    }
   ],
   "source": [
    "from sklearn.model_selection import RandomizedSearchCV\n",
    "\n",
    "n_estimators = [int(x) for x in np.linspace(start=200, stop=2000, num=10)]\n",
    "max_features = ['auto', 'sqrt']\n",
    "max_depth = [int(x) for x in np.linspace(10, 110, num=11)]\n",
    "max_depth.append(None)\n",
    "min_samples_split = [2, 5, 10]\n",
    "min_samples_leaf = [1, 2, 4]\n",
    "bootstrap = [True, False]\n",
    "\n",
    "random_grid = {'n_estimators': n_estimators, 'max_features': max_features,\n",
    "               'max_depth': max_depth, 'min_samples_split': min_samples_split,\n",
    "               'min_samples_leaf': min_samples_leaf, 'bootstrap': bootstrap}\n",
    "\n",
    "rf_clf1 = RandomForestClassifier(random_state=42)\n",
    "\n",
    "rf_cv = RandomizedSearchCV(estimator=rf_clf1, scoring='f1',param_distributions=random_grid, n_iter=50, cv=3, \n",
    "                               verbose=2, random_state=42, n_jobs=-1)\n",
    "\n",
    "rf_cv.fit(X_train, y_train)\n",
    "rf_best_params = rf_cv.best_params_\n",
    "print(f\"Best paramters: {rf_best_params})\")"
   ]
  },
  {
   "cell_type": "code",
   "execution_count": 51,
   "metadata": {},
   "outputs": [],
   "source": [
    "rf_clf2 = RandomForestClassifier(**rf_best_params)\n",
    "rf_clf2.fit(X_train, y_train)\n",
    "y_predict=rf_clf2.predict(X_test)\n",
    "f1_score=f1_score(y_test,y_predict)"
   ]
  },
  {
   "cell_type": "code",
   "execution_count": 52,
   "metadata": {},
   "outputs": [
    {
     "name": "stdout",
     "output_type": "stream",
     "text": [
      "0.9924921508850162\n"
     ]
    }
   ],
   "source": [
    "print (f1_score)"
   ]
  },
  {
   "cell_type": "code",
   "execution_count": 53,
   "metadata": {},
   "outputs": [
    {
     "data": {
      "text/plain": [
       "0.9925497810087145"
      ]
     },
     "execution_count": 53,
     "metadata": {},
     "output_type": "execute_result"
    }
   ],
   "source": [
    "## test acc\n",
    "test_acc=accuracy_score(y_test,y_predict)\n",
    "test_acc"
   ]
  },
  {
   "cell_type": "code",
   "execution_count": 54,
   "metadata": {},
   "outputs": [
    {
     "name": "stdout",
     "output_type": "stream",
     "text": [
      "              precision    recall  f1-score   support\n",
      "\n",
      "           0       0.99      0.99      0.99     11162\n",
      "           1       0.99      0.99      0.99     10985\n",
      "\n",
      "    accuracy                           0.99     22147\n",
      "   macro avg       0.99      0.99      0.99     22147\n",
      "weighted avg       0.99      0.99      0.99     22147\n",
      "\n"
     ]
    }
   ],
   "source": [
    "print(classification_report(y_test,y_predict))"
   ]
  },
  {
   "cell_type": "markdown",
   "metadata": {},
   "source": [
    "# Artificial  Neural Network"
   ]
  },
  {
   "cell_type": "code",
   "execution_count": 51,
   "metadata": {},
   "outputs": [],
   "source": [
    "### model creation\n",
    "X = data.drop(columns = ['activity','date','username','time'])\n",
    "y = data['activity']\n"
   ]
  },
  {
   "cell_type": "code",
   "execution_count": 52,
   "metadata": {},
   "outputs": [],
   "source": [
    "## Scaling the data as the magnitude of variables are varying lot\n",
    "from sklearn.preprocessing import StandardScaler\n",
    "sc=StandardScaler() ## object creation\n",
    "sclaed_x=sc.fit_transform(X) ## transforming the data\n",
    "X = pd.DataFrame(sclaed_x,columns=X.columns) ##converting the arrays"
   ]
  },
  {
   "cell_type": "code",
   "execution_count": 54,
   "metadata": {},
   "outputs": [],
   "source": [
    "##creating training and test data\n",
    "from sklearn.model_selection import train_test_split\n",
    "X_train,X_test,y_train,y_test = train_test_split(X,y,\n",
    "                                test_size=0.2,random_state=10)"
   ]
  },
  {
   "cell_type": "code",
   "execution_count": 55,
   "metadata": {},
   "outputs": [],
   "source": [
    "## model creation\n",
    "from sklearn.neural_network import MLPClassifier\n",
    "model = MLPClassifier( hidden_layer_sizes=(50,3),\n",
    "                       learning_rate_init=.5,\n",
    "                       max_iter=100,\n",
    "                       random_state=2) ## model object creation\n",
    "model.fit(X_train,y_train) ## training the data\n",
    "y_predict_proba = model.predict_proba(X_test) ## predicting the pro\n",
    "## bability of class\n",
    "y_predict = model.predict(X_test)\n",
    "y_train_predict = model.predict(X_train)\n"
   ]
  },
  {
   "cell_type": "code",
   "execution_count": 56,
   "metadata": {},
   "outputs": [
    {
     "name": "stdout",
     "output_type": "stream",
     "text": [
      "Train accuracy : 0.5001128827430507\n",
      "Test accuracy : 0.5035557060616322\n"
     ]
    }
   ],
   "source": [
    "## Evaluating the model created\n",
    "from sklearn.metrics import accuracy_score,confusion_matrix\n",
    "print(\"Train accuracy :\",accuracy_score(y_train,y_train_predict))\n",
    "print(\"Test accuracy :\",accuracy_score(y_test,y_predict))"
   ]
  },
  {
   "cell_type": "code",
   "execution_count": 58,
   "metadata": {},
   "outputs": [
    {
     "name": "stdout",
     "output_type": "stream",
     "text": [
      "              precision    recall  f1-score   support\n",
      "\n",
      "           0       0.00      0.00      0.00      8796\n",
      "           1       0.50      1.00      0.67      8922\n",
      "\n",
      "    accuracy                           0.50     17718\n",
      "   macro avg       0.25      0.50      0.33     17718\n",
      "weighted avg       0.25      0.50      0.34     17718\n",
      "\n"
     ]
    },
    {
     "name": "stderr",
     "output_type": "stream",
     "text": [
      "/Users/vishnupt/opt/anaconda3/lib/python3.8/site-packages/sklearn/metrics/_classification.py:1245: UndefinedMetricWarning: Precision and F-score are ill-defined and being set to 0.0 in labels with no predicted samples. Use `zero_division` parameter to control this behavior.\n",
      "  _warn_prf(average, modifier, msg_start, len(result))\n",
      "/Users/vishnupt/opt/anaconda3/lib/python3.8/site-packages/sklearn/metrics/_classification.py:1245: UndefinedMetricWarning: Precision and F-score are ill-defined and being set to 0.0 in labels with no predicted samples. Use `zero_division` parameter to control this behavior.\n",
      "  _warn_prf(average, modifier, msg_start, len(result))\n",
      "/Users/vishnupt/opt/anaconda3/lib/python3.8/site-packages/sklearn/metrics/_classification.py:1245: UndefinedMetricWarning: Precision and F-score are ill-defined and being set to 0.0 in labels with no predicted samples. Use `zero_division` parameter to control this behavior.\n",
      "  _warn_prf(average, modifier, msg_start, len(result))\n"
     ]
    }
   ],
   "source": [
    "## getting classification report\n",
    "from sklearn.metrics import classification_report\n",
    "print(classification_report(y_test,y_predict))"
   ]
  },
  {
   "cell_type": "markdown",
   "metadata": {},
   "source": [
    "# Saving the best Model"
   ]
  },
  {
   "cell_type": "code",
   "execution_count": 55,
   "metadata": {},
   "outputs": [
    {
     "data": {
      "text/plain": [
       "['walkrun_Random.pkl']"
      ]
     },
     "execution_count": 55,
     "metadata": {},
     "output_type": "execute_result"
    }
   ],
   "source": [
    "import joblib\n",
    "joblib.dump(rf_clf2, 'walkrun_Random.pkl') # pickle\n"
   ]
  },
  {
   "cell_type": "markdown",
   "metadata": {},
   "source": [
    "# Conclusion\n",
    "\n",
    "After creating all the models we found out the Random forest with hyperparameter model is the best model with F1 socre of 99.25.All other model have comparitively less F1 score."
   ]
  }
 ],
 "metadata": {
  "kernelspec": {
   "display_name": "Python 3 (ipykernel)",
   "language": "python",
   "name": "python3"
  },
  "language_info": {
   "codemirror_mode": {
    "name": "ipython",
    "version": 3
   },
   "file_extension": ".py",
   "mimetype": "text/x-python",
   "name": "python",
   "nbconvert_exporter": "python",
   "pygments_lexer": "ipython3",
   "version": "3.9.13"
  }
 },
 "nbformat": 4,
 "nbformat_minor": 4
}
